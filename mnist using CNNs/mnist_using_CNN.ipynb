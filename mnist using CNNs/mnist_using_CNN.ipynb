{
  "nbformat": 4,
  "nbformat_minor": 0,
  "metadata": {
    "colab": {
      "name": "mnist using CNN",
      "version": "0.3.2",
      "provenance": []
    },
    "kernelspec": {
      "name": "python3",
      "display_name": "Python 3"
    }
  },
  "cells": [
    {
      "metadata": {
        "id": "y4IMRB1ep7wJ",
        "colab_type": "code",
        "colab": {}
      },
      "cell_type": "code",
      "source": [
        "from keras.datasets import mnist\n",
        "\n",
        "#download mnist data and split into train and test sets\n",
        "(X_train, y_train), (X_test, y_test) = mnist.load_data()\n",
        "(X_tt, y_tt), (X_t, y_t) = mnist.load_data()\n",
        "# second is just to keep the original form of the images \n",
        "# as we are going to make changes to the images  now\n"
      ],
      "execution_count": 0,
      "outputs": []
    },
    {
      "metadata": {
        "id": "ANy8GAHxqJSM",
        "colab_type": "code",
        "colab": {
          "base_uri": "https://localhost:8080/",
          "height": 365
        },
        "outputId": "2eae214c-63ba-4c35-fdd9-ac30b0dea624"
      },
      "cell_type": "code",
      "source": [
        "import matplotlib.pyplot as plt\n",
        "plt.imshow(X_train[0])"
      ],
      "execution_count": 61,
      "outputs": [
        {
          "output_type": "execute_result",
          "data": {
            "text/plain": [
              "<matplotlib.image.AxesImage at 0x7fc9ddee7550>"
            ]
          },
          "metadata": {
            "tags": []
          },
          "execution_count": 61
        },
        {
          "output_type": "display_data",
          "data": {
            "image/png": "[encoded data removed]",
            "text/plain": [
              "<matplotlib.figure.Figure at 0x7fc9ddfd0c18>"
            ]
          },
          "metadata": {
            "tags": []
          }
        }
      ]
    },
    {
      "metadata": {
        "id": "xZ7UoCddqOM7",
        "colab_type": "code",
        "colab": {
          "base_uri": "https://localhost:8080/",
          "height": 35
        },
        "outputId": "b021913e-d994-4b01-85d6-e443d8984acb"
      },
      "cell_type": "code",
      "source": [
        "#check image shape\n",
        "X_train[0].shape\n"
      ],
      "execution_count": 62,
      "outputs": [
        {
          "output_type": "execute_result",
          "data": {
            "text/plain": [
              "(28, 28)"
            ]
          },
          "metadata": {
            "tags": []
          },
          "execution_count": 62
        }
      ]
    },
    {
      "metadata": {
        "id": "hXmtEi5iqZW9",
        "colab_type": "code",
        "colab": {}
      },
      "cell_type": "code",
      "source": [
        "# By default, the shape of every image in the mnist dataset is 28 x 28, so we will not need to check the shape of all the images.\n",
        "# When using real-world datasets, you may not be so lucky.\n",
        "# 28 x 28 is also a fairly small size, so the CNN will be able to run over each image pretty quickly.\n",
        "\n",
        "\n",
        "\n",
        "# Data pre-processing\n",
        "\n",
        "# Next, we need to reshape our dataset inputs (X_train and X_test) to the shape that our model expects when we train the model. \n",
        "# The first number is the number of images (60,000 for X_train and 10,000 for X_test).\n",
        "# Then comes the shape of each image (28x28). The last number is 1, which signifies that the images are greyscale.\n",
        "#reshape data to fit model\n",
        "X_train = X_train.reshape(60000,28,28,1)\n",
        "X_test = X_test.reshape(10000,28,28,1)"
      ],
      "execution_count": 0,
      "outputs": []
    },
    {
      "metadata": {
        "id": "CmwW45CXq2CT",
        "colab_type": "code",
        "colab": {
          "base_uri": "https://localhost:8080/",
          "height": 35
        },
        "outputId": "d0188db3-1ab6-42ed-fa84-82ab9edae0d5"
      },
      "cell_type": "code",
      "source": [
        "# We need to ‘one-hot-encode’ our target variable. This means that a column will be\n",
        "# created for each output category and a binary variable is inputted for each category.\n",
        "# For example, we saw that the first image in the dataset is a 5.\n",
        "# This means that the sixth number in our array will have a 1 and the rest of the array will be filled with 0.\n",
        "\n",
        "from keras.utils import to_categorical\n",
        "\n",
        "#one-hot encode target column\n",
        "y_train = to_categorical(y_train)\n",
        "y_test = to_categorical(y_test)\n",
        "\n",
        "y_train[0]"
      ],
      "execution_count": 64,
      "outputs": [
        {
          "output_type": "execute_result",
          "data": {
            "text/plain": [
              "array([0., 0., 0., 0., 0., 1., 0., 0., 0., 0.], dtype=float32)"
            ]
          },
          "metadata": {
            "tags": []
          },
          "execution_count": 64
        }
      ]
    },
    {
      "metadata": {
        "id": "Ya3iyoR_rDYA",
        "colab_type": "code",
        "colab": {}
      },
      "cell_type": "code",
      "source": [
        "# Building the model\n",
        "\n",
        "# Now we are ready to build our model. Here is the code:\n",
        "\n",
        "from keras.models import Sequential\n",
        "from keras.layers import Dense, Conv2D, Flatten\n",
        "\n",
        "#create model\n",
        "model = Sequential()\n",
        "\n",
        "#add model layers\n",
        "model.add(Conv2D(64, kernel_size=3, activation='relu', input_shape=(28,28,1)))\n",
        "model.add(Conv2D(32, kernel_size=3, activation='relu'))\n",
        "model.add(Flatten())\n",
        "model.add(Dense(10, activation='softmax'))\n",
        "\n",
        "# The model type that we will be using is Sequential. \n",
        "# Sequential is the easiest way to build a model in Keras. \n",
        "# It allows you to build a model layer by layer.\n",
        "\n",
        "# We use the ‘add()’ function to add layers to our model.\n",
        "\n",
        "# Our first 2 layers are Conv2D layers.\n",
        "# These are convolution layers that will deal with our input images, which are seen as 2-dimensional matrices.\n",
        "\n",
        "# 64 in the first layer and 32 in the second layer are the number of nodes in each layer.\n",
        "# This number can be adjusted to be higher or lower, depending on the size of the dataset. In our case,\n",
        "# 64 and 32 work well, so we will stick with this for now.\n",
        "\n",
        "# Kernel size is the size of the filter matrix for our convolution.\n",
        "# So a kernel size of 3 means we will have a 3x3 filter matrix.\n",
        "\n",
        "# Activation is the activation function for the layer.\n",
        "# The activation function we will be using for our first 2 layers is the ReLU, or Rectified Linear Activation.\n",
        "# This activation function has been proven to work well in neural networks.\n",
        "\n",
        "# Our first layer also takes in an input shape.\n",
        "# This is the shape of each input image, 28,28,1 as seen earlier on,\n",
        "# with the 1 signifying that the images are greyscale.\n",
        "\n",
        "# In between the Conv2D layers and the dense layer,\n",
        "# there is a ‘Flatten’ layer. Flatten serves as a connection between the convolution and dense layers.\n",
        "\n",
        "# ‘Dense’ is the layer type we will use in for our output layer. \n",
        "# Dense is a standard layer type that is used in many cases for neural networks.\n",
        "\n",
        "# We will have 10 nodes in our output layer, one for each possible outcome (0–9).\n",
        "\n",
        "# The activation is ‘softmax’. \n",
        "# Softmax makes the output sum up to 1 so the output can be interpreted as probabilities.\n",
        "# The model will then make its prediction based on which option has the highest probability."
      ],
      "execution_count": 0,
      "outputs": []
    },
    {
      "metadata": {
        "id": "OMQ1Dzs4r95m",
        "colab_type": "code",
        "colab": {}
      },
      "cell_type": "code",
      "source": [
        "# The optimizer controls the learning rate. We will be using ‘adam’ as our optmizer.\n",
        "# Adam is generally a good optimizer to use for many cases. The adam optimizer adjusts the learning rate throughout training.\n",
        "\n",
        "# The learning rate determines how fast the optimal weights for the model are calculated.\n",
        "# A smaller learning rate may lead to more accurate weights (up to a certain point), but the time it takes to compute the weights will be longer.\n",
        "\n",
        "# We will use ‘categorical_crossentropy’ for our loss function.\n",
        "# This is the most common choice for classification. A lower score indicates that the model is performing better.\n",
        "\n",
        "# To make things even easier to interpret, we will use the ‘accuracy’ metric\n",
        "# to see the accuracy score on the validation set when we train the model.\n",
        "#compile model using accuracy to measure model performance\n",
        "model.compile(optimizer='adam', loss='categorical_crossentropy', metrics=['accuracy'])"
      ],
      "execution_count": 0,
      "outputs": []
    },
    {
      "metadata": {
        "id": "7THjZwONs_10",
        "colab_type": "code",
        "colab": {
          "base_uri": "https://localhost:8080/",
          "height": 164
        },
        "outputId": "2419c9d6-50b7-41b3-c639-c070ef3cee4a"
      },
      "cell_type": "code",
      "source": [
        "# Training the model\n",
        "\n",
        "# Now we will train our model. \n",
        "# To train, we will use the ‘fit()’ function on our model with the following parameters:\n",
        "#   training data (train_X), target data (train_y), validation data, and the number of epochs.\n",
        "\n",
        "# For our validation data, we will use the test set provided to us in our dataset, \n",
        "# which we have split into X_test and y_test.\n",
        "\n",
        "# The number of epochs is the number of times the model will cycle through the data.\n",
        "# The more epochs we run, the more the model will improve, up to a certain point.\n",
        "# After that point, the model will stop improving during each epoch. For our model,\n",
        "# we will set the number of epochs to 3.\n",
        "\n",
        "#train the model\n",
        "model.fit(X_train, y_train,validation_data=(X_test, y_test), epochs=3)"
      ],
      "execution_count": 67,
      "outputs": [
        {
          "output_type": "stream",
          "text": [
            "Train on 60000 samples, validate on 10000 samples\n",
            "Epoch 1/3\n",
            "60000/60000 [==============================] - 204s 3ms/step - loss: 8.2296 - acc: 0.4863 - val_loss: 6.8152 - val_acc: 0.5754\n",
            "Epoch 2/3\n",
            "60000/60000 [==============================] - 202s 3ms/step - loss: 6.7715 - acc: 0.5789 - val_loss: 6.8417 - val_acc: 0.5743\n",
            "Epoch 3/3\n",
            "60000/60000 [==============================] - 203s 3ms/step - loss: 5.9197 - acc: 0.6321 - val_loss: 5.2429 - val_acc: 0.6743\n"
          ],
          "name": "stdout"
        },
        {
          "output_type": "execute_result",
          "data": {
            "text/plain": [
              "<keras.callbacks.History at 0x7fc9ddf42d30>"
            ]
          },
          "metadata": {
            "tags": []
          },
          "execution_count": 67
        }
      ]
    },
    {
      "metadata": {
        "id": "pRfg4LxszwR_",
        "colab_type": "code",
        "colab": {
          "base_uri": "https://localhost:8080/",
          "height": 90
        },
        "outputId": "f7b0cb29-adc0-4f35-bc80-0e7d22495f22"
      },
      "cell_type": "code",
      "source": [
        "# Using our model to make predictions\n",
        "\n",
        "# If you want to see the actual predictions that our model has made for the test data,\n",
        "# we can use the predict function. The predict function will give an array with 10 numbers. \n",
        "# These numbers are the probabilities that the input image represents each digit (0–9).\n",
        "# The array index with the highest number represents the model prediction. The sum of each array equals 1 (since each number is a probability).\n",
        "\n",
        "# To show this, we will show the predictions for the first 4 images in the test set.\n",
        "\n",
        "# Note: If we have new data, we can input our new data into the predict function to see\n",
        "#   the predictions our model makes on the new data. Since we don’t have any new unseen data, \n",
        "#   we will show predictions using the test set for now.\n",
        "\n",
        "#predict first 4 images in the test set\n",
        "model.predict(X_test[:4])\n",
        "# it says first is 7, second is 2, third is 1, fourth is 0."
      ],
      "execution_count": 68,
      "outputs": [
        {
          "output_type": "execute_result",
          "data": {
            "text/plain": [
              "array([[0., 0., 0., 0., 0., 0., 0., 1., 0., 0.],\n",
              "       [0., 0., 1., 0., 0., 0., 0., 0., 0., 0.],\n",
              "       [0., 1., 0., 0., 0., 0., 0., 0., 0., 0.],\n",
              "       [1., 0., 0., 0., 0., 0., 0., 0., 0., 0.]], dtype=float32)"
            ]
          },
          "metadata": {
            "tags": []
          },
          "execution_count": 68
        }
      ]
    },
    {
      "metadata": {
        "id": "0MAI4O2y0CD1",
        "colab_type": "code",
        "colab": {
          "base_uri": "https://localhost:8080/",
          "height": 365
        },
        "outputId": "0b44fba5-c170-4bdd-bc7b-e8c9b436e17b"
      },
      "cell_type": "code",
      "source": [
        "#actual results for first 4 images in test set\n",
        "import matplotlib.pyplot as plt\n",
        "#plot the first image in the dataset\n",
        "plt.imshow(X_t[3])"
      ],
      "execution_count": 72,
      "outputs": [
        {
          "output_type": "execute_result",
          "data": {
            "text/plain": [
              "<matplotlib.image.AxesImage at 0x7fc9dd9c8b38>"
            ]
          },
          "metadata": {
            "tags": []
          },
          "execution_count": 72
        },
        {
          "output_type": "display_data",
          "data": {
            "image/png": "[encoded data removed]",
            "text/plain": [
              "<matplotlib.figure.Figure at 0x7fc9dd9fe908>"
            ]
          },
          "metadata": {
            "tags": []
          }
        }
      ]
    }
  ]
}