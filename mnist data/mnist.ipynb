{
  "nbformat": 4,
  "nbformat_minor": 0,
  "metadata": {
    "colab": {
      "name": "mnist.ipynb",
      "version": "0.3.2",
      "provenance": [],
      "collapsed_sections": []
    },
    "kernelspec": {
      "name": "python3",
      "display_name": "Python 3"
    }
  },
  "cells": [
    {
      "metadata": {
        "id": "--Cu-Qno_XrZ",
        "colab_type": "code",
        "colab": {
          "base_uri": "https://localhost:8080/",
          "height": 164
        },
        "outputId": "ff0939ea-1bc3-44c8-98b5-f8eae144dc78"
      },
      "cell_type": "code",
      "source": [
        "import tensorflow as tf\n",
        "mnist = tf.keras.datasets.mnist\n",
        "(x_train,y_train),(x_test,y_test) = mnist.load_data()\n",
        "# it contains 28x28 images of hand written numbers from 0-9\n",
        "# x_train has the training examples that is the input images \n",
        "# y_train has the output numbers for those images 0-9\n",
        "\n",
        "\n",
        "import matplotlib.pyplot as plt\n",
        "# plt.imshow(x_train[2]) this shows the images in the training set\n",
        "# print(x_train[0])\n",
        "\n",
        "\n",
        "# the data is pixel values in gray scale which varies from 0-255, here we need\n",
        "# to normalize the values, to make them on the same level\n",
        "x_train = tf.keras.utils.normalize(x_train,axis = 1)\n",
        "x_test = tf.keras.utils.normalize(x_test,axis = 1)\n",
        "# plt.imshow(x_train[0])\n",
        "# print(x_train[0])\n",
        "\n",
        "\n",
        "# create the model\n",
        "model = tf.keras.models.Sequential()\n",
        "# adding the input layer\n",
        "model.add(tf.keras.layers.Flatten())\n",
        "# adding hidden layers\n",
        "# we will choose how many neurons or nodes we want in the hidden layer,\n",
        "# how many numbers of hidden layers, and activation function for the hidden\n",
        "# layer\n",
        "# we will have 2 hidden layers and 128 nodes or neurons in each layer\n",
        "# we will use ReLU as the activation function for the hidden layers\n",
        "# this is the most commonly used activation function\n",
        "# hidden layer 1\n",
        "model.add(tf.keras.layers.Dense(128,activation = tf.nn.relu))\n",
        "# hidden layer 2\n",
        "model.add(tf.keras.layers.Dense(128,activation = tf.nn.relu))\n",
        "# now we finally add the output layer\n",
        "# this layer will have nodes equal to the number of classes in the problem\n",
        "# here we want to identify a number between 0-9 hence\n",
        "# there are 10 classes so we will have 10 nodes in the output layer\n",
        "# we will use the softmax function for the output layer for\n",
        "# probability distribution\n",
        "\n",
        "model.add(tf.keras.layers.Dense(10,activation = tf.nn.softmax))\n",
        "\n",
        "\n",
        "# now we enter more details for the model\n",
        "model.compile(optimizer = 'adam', loss = 'sparse_categorical_crossentropy',\n",
        "              metrics = ['accuracy'])\n",
        "# now we are done here\n",
        "# implementing or training\n",
        "model.fit(x_train,y_train,epochs = 3)\n",
        "\n",
        "\n",
        "\n",
        "\n",
        "\n",
        "\n",
        "\n",
        "\n",
        "\n",
        "  "
      ],
      "execution_count": 17,
      "outputs": [
        {
          "output_type": "stream",
          "text": [
            "Epoch 1/3\n",
            "60000/60000 [==============================] - 8s 130us/step - loss: 0.2590 - acc: 0.9238\n",
            "Epoch 2/3\n",
            "60000/60000 [==============================] - 7s 122us/step - loss: 0.1065 - acc: 0.9669\n",
            "Epoch 3/3\n",
            "60000/60000 [==============================] - 7s 120us/step - loss: 0.0731 - acc: 0.9770\n",
            "10000/10000 [==============================] - 0s 36us/step\n",
            "0.09701569564389065 0.9703\n"
          ],
          "name": "stdout"
        }
      ]
    },
    {
      "metadata": {
        "id": "5eJDDKakHtxb",
        "colab_type": "code",
        "colab": {
          "base_uri": "https://localhost:8080/",
          "height": 54
        },
        "outputId": "9af6f30c-6c9d-438d-c16e-2aff7f021e18"
      },
      "cell_type": "code",
      "source": [
        "# lets check the model\n",
        "# testing\n",
        "val_loss, val_acc = model.evaluate(x_test,y_test)\n",
        "print(val_loss,val_acc)"
      ],
      "execution_count": 18,
      "outputs": [
        {
          "output_type": "stream",
          "text": [
            "10000/10000 [==============================] - 0s 29us/step\n",
            "0.09701569564389065 0.9703\n"
          ],
          "name": "stdout"
        }
      ]
    },
    {
      "metadata": {
        "id": "n7ugum9TIbG_",
        "colab_type": "code",
        "colab": {
          "base_uri": "https://localhost:8080/",
          "height": 256
        },
        "outputId": "07558fe5-dd2b-4836-d2b9-01ae79fd26fd"
      },
      "cell_type": "code",
      "source": [
        "# now we will test it visually\n",
        "# for that\n",
        "predictions = model.predict([x_test])\n",
        "print(predictions)"
      ],
      "execution_count": 19,
      "outputs": [
        {
          "output_type": "stream",
          "text": [
            "[[6.1970229e-10 7.8130036e-09 6.5607978e-06 ... 9.9998307e-01\n",
            "  7.6174578e-09 2.4177098e-07]\n",
            " [1.0219112e-09 4.3558530e-06 9.9999261e-01 ... 2.2993760e-08\n",
            "  1.0484100e-06 4.3628141e-13]\n",
            " [4.8887091e-07 9.9942565e-01 2.6370899e-05 ... 1.7492153e-04\n",
            "  2.2664460e-04 6.4696286e-07]\n",
            " ...\n",
            " [1.8226515e-09 5.6790776e-07 1.0359061e-09 ... 1.1595521e-06\n",
            "  1.1934333e-05 4.2029872e-04]\n",
            " [4.2659199e-06 1.5482425e-06 1.4600677e-06 ... 1.0298732e-05\n",
            "  3.0908117e-03 2.8036425e-07]\n",
            " [2.7701105e-07 4.2514536e-10 1.4928890e-08 ... 1.8001744e-11\n",
            "  4.4682469e-08 1.1656407e-08]]\n"
          ],
          "name": "stdout"
        }
      ]
    },
    {
      "metadata": {
        "id": "dv9Si05XIv2U",
        "colab_type": "code",
        "colab": {
          "base_uri": "https://localhost:8080/",
          "height": 72
        },
        "outputId": "63471f56-e03f-4aef-bf8d-f325995f3a06"
      },
      "cell_type": "code",
      "source": [
        "# predictios is a matrix\n",
        "print(predictions[0])\n",
        "# this is a vector for the first image\n",
        "# this contains 10 values, these values are probability distributions. \n",
        "# first value in the vector tells the probability of image being of 1,\n",
        "# second value tells the probability of it being 2 and so on\n",
        "# we need to find the maximum of these value \n",
        "# which will be the number our model has highest probability of\n",
        "# for that lets use numpy\n"
      ],
      "execution_count": 20,
      "outputs": [
        {
          "output_type": "stream",
          "text": [
            "[6.19702289e-10 7.81300358e-09 6.56079783e-06 1.01181722e-05\n",
            " 1.05582675e-10 3.92186621e-08 6.59792545e-15 9.99983072e-01\n",
            " 7.61745778e-09 2.41770977e-07]\n"
          ],
          "name": "stdout"
        }
      ]
    },
    {
      "metadata": {
        "id": "5r93IR4EJcfZ",
        "colab_type": "code",
        "colab": {
          "base_uri": "https://localhost:8080/",
          "height": 35
        },
        "outputId": "8da4e2dc-5014-43fd-b532-ce5d3e0dfdf1"
      },
      "cell_type": "code",
      "source": [
        "import numpy as np\n",
        "print(np.argmax(predictions[0]))\n",
        "# it says that it is highest probability that it is a seven\n",
        "# lets see the image"
      ],
      "execution_count": 23,
      "outputs": [
        {
          "output_type": "stream",
          "text": [
            "0\n"
          ],
          "name": "stdout"
        }
      ]
    },
    {
      "metadata": {
        "id": "GG169Gd1J2bY",
        "colab_type": "code",
        "colab": {
          "base_uri": "https://localhost:8080/",
          "height": 347
        },
        "outputId": "76f81039-867d-4a15-fe55-a171f8de9d7d"
      },
      "cell_type": "code",
      "source": [
        "plt.imshow(x_test[0])\n",
        "plt.show()\n",
        "# both mathc\n",
        "# hence pur neural network is actually working"
      ],
      "execution_count": 24,
      "outputs": [
        {
          "output_type": "display_data",
          "data": {
            "image/png": "[encoded data removed]",
            "text/plain": [
              "<matplotlib.figure.Figure at 0x7f02d8d27b38>"
            ]
          },
          "metadata": {
            "tags": []
          }
        }
      ]
    }
  ]
}